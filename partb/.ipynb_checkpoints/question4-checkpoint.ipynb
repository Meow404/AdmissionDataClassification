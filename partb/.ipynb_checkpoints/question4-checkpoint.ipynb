{
 "cells": [
  {
   "cell_type": "markdown",
   "metadata": {},
   "source": [
    "# PartB: Regression Problem"
   ]
  },
  {
   "cell_type": "code",
   "execution_count": 1,
   "metadata": {},
   "outputs": [],
   "source": [
    "#IMPORT\n",
    "from data import readData\n",
    "import numpy as np\n",
    "import tensorflow as tf\n",
    "import matplotlib.pyplot as plt\n",
    "sess = tf.Session()"
   ]
  },
  {
   "cell_type": "markdown",
   "metadata": {},
   "source": [
    "## 0. Read Data"
   ]
  },
  {
   "cell_type": "code",
   "execution_count": 2,
   "metadata": {},
   "outputs": [],
   "source": [
    "data = readData()\n",
    "data = data / np.array((340, 120, 5, 5, 5, 10, 1, 1))"
   ]
  },
  {
   "cell_type": "markdown",
   "metadata": {},
   "source": [
    "# Train Test split"
   ]
  },
  {
   "cell_type": "code",
   "execution_count": 3,
   "metadata": {},
   "outputs": [],
   "source": [
    "# prepare data\n",
    "# random\n",
    "np.random.seed(231535622)\n",
    "\n",
    "num_patterns = data.shape[0]\n",
    "num_train_patterns = int(0.7*num_patterns)\n",
    "total_indices = np.arange(num_patterns)\n",
    "\n",
    "np.random.shuffle(total_indices)\n",
    "train_indices = total_indices[:int(0.7*num_patterns)]\n",
    "test_indices = total_indices[int(0.7*num_patterns):]"
   ]
  },
  {
   "cell_type": "markdown",
   "metadata": {},
   "source": [
    "# 1. Build 4-layer feed forward neural network"
   ]
  },
  {
   "cell_type": "markdown",
   "metadata": {},
   "source": [
    "### Mathematical Model\n",
    "```\n",
    "n: number of features,\n",
    "b: batch size\n",
    "x: R bxn\n",
    "y: R bx1\n",
    "\n",
    "h: number of hidden neurons\n",
    "\n",
    "hidden1: R bxh = relu(x w1 + b1*)\n",
    "    w1 (weight of hidden neurons): R nxh\n",
    "    b1*: R bxh = 1* b1\n",
    "    b1 (bias of hidden neurons): R 1xh\n",
    "    1* (vector R bx1)\n",
    "\n",
    "hidden2: R bxh = relu(hidden1 w2 + b2*)\n",
    "    w2 (weight of hidden neurons): R nxh\n",
    "    b2*: R bxh = 1* b2\n",
    "    b2 (bias of hidden neurons): R 1xh\n",
    "    1* (vector R bx1)\n",
    "\n",
    "yp (output): R bx1 = linear(hidden2 w3 + b3*)\n",
    "    w3 (weight of output neuron): R hx1\n",
    "    b3*: R bx1 = 1* b3\n",
    "    b3 (bias of output neurons): R 1x1\n",
    "    1* (vector R bx1)\n",
    "\n",
    "\"\"\" We can omit 1* in tensorflow\n",
    "```"
   ]
  },
  {
   "cell_type": "markdown",
   "metadata": {},
   "source": [
    "### Build Graph"
   ]
  },
  {
   "cell_type": "code",
   "execution_count": 4,
   "metadata": {},
   "outputs": [],
   "source": [
    "# fixed params\n",
    "n = 7 # number of features\n",
    "b = 8 # batch size\n",
    "h = 50 # number of hidden layer neurons\n",
    "regularization_decay = 1e-3\n",
    "# random\n",
    "seed1 = 10\n",
    "seed2 = 20\n",
    "np.random.seed(seed1)\n",
    "tf.random.set_random_seed(seed2)\n",
    "\n",
    "\n",
    "# 4-layer \n",
    "# placeholders\n",
    "x_shape = (None, n) # patterns are row vectors.\n",
    "y_shape = (None, 1) # predicted values are a cell in a column vector.\n",
    "x = tf.placeholder(dtype = tf.float32, shape = x_shape, name = \"x\")\n",
    "y = tf.placeholder(dtype = tf.float32, shape = y_shape, name = \"y\")\n",
    "drop_rate = tf.placeholder(dtype = tf.float32, shape = (), name = \"drop_rate\")\n",
    "\n",
    "# weight, biases\n",
    "w1_shape = (n, h)\n",
    "b1_shape = (1, h)\n",
    "w1 = tf.Variable(tf.random.truncated_normal(shape = w1_shape, stddev=1.0 / np.sqrt(n), dtype=tf.float32), name='w1') # taken from start_project1b\n",
    "b1 = tf.Variable(tf.random.normal(shape = b1_shape, dtype = tf.float32), name = \"b1\") # take arbitrary\n",
    "\n",
    "w2_shape = (h, h)\n",
    "b2_shape = (1, h)\n",
    "w2 = tf.Variable(tf.random.truncated_normal(shape = w2_shape, stddev=1.0 / np.sqrt(h), dtype=tf.float32), name = 'w2')\n",
    "b2 = tf.Variable(tf.random.normal(shape = b2_shape, dtype = tf.float32), name = \"b2\")\n",
    "\n",
    "w3_shape = (h, 1)\n",
    "b3_shape = (1, 1)\n",
    "w3 = tf.Variable(tf.random.truncated_normal(shape = w3_shape, stddev = 1.0 / np.sqrt(h), dtype = tf.float32), name = \"w3\")\n",
    "b3 = tf.Variable(tf.random.normal(shape = b3_shape, dtype = tf.float32), name = \"b3\")\n",
    "\n",
    "hidden1 = tf.nn.relu(tf.nn.dropout(tf.linalg.matmul(x, w1) + b1, rate = drop_rate), name = \"hidden1\")\n",
    "hidden2 = tf.nn.relu(tf.nn.dropout(tf.linalg.matmul(hidden1, w2) + b2, rate = drop_rate), name = \"hidden2\")\n",
    "yp = tf.identity(tf.linalg.matmul(hidden2, w3) + b3, name = \"yp\")\n",
    "#yp = tf.math.sigmoid(tf.linalg.matmul(hidden, w2) + b2, name = \"yp\")\n",
    "\n",
    "# loss + L2 regularization\n",
    "#loss = tf.reduce_mean(tf.math.abs(yp - y))\n",
    "loss = tf.reduce_mean(tf.math.log(tf.math.cosh(yp - y)))\n",
    "#loss = tf.reduce_mean(tf.math.square(yp - y))\n",
    "\n",
    "regularization_loss = tf.reduce_sum(tf.math.square(w1)) + tf.reduce_sum(tf.math.square(w2))\n",
    "total_loss = loss + regularization_decay * regularization_loss"
   ]
  },
  {
   "cell_type": "markdown",
   "metadata": {},
   "source": [
    "### Train without dropout"
   ]
  },
  {
   "cell_type": "code",
   "execution_count": 5,
   "metadata": {},
   "outputs": [
    {
     "name": "stdout",
     "output_type": "stream",
     "text": [
      "(400, 7)\n",
      "(400, 1)\n"
     ]
    }
   ],
   "source": [
    "# Get data\n",
    "x_np = data[:, :-1]\n",
    "y_np = data[:, -1:]\n",
    "print(x_np.shape)\n",
    "print(y_np.shape)\n",
    "\n",
    "x_train = x_np[train_indices]\n",
    "y_train = y_np[train_indices]\n",
    "x_test = x_np[test_indices]\n",
    "y_test = y_np[test_indices]"
   ]
  },
  {
   "cell_type": "code",
   "execution_count": 6,
   "metadata": {},
   "outputs": [
    {
     "name": "stdout",
     "output_type": "stream",
     "text": [
      "epoch 0, train loss 1.9137678146362305, test loss 1.9071624279022217\n",
      "epoch 100, train loss 0.008550811558961868, test loss 0.009194447658956051\n",
      "epoch 200, train loss 0.007305020000785589, test loss 0.007823317311704159\n",
      "epoch 300, train loss 0.006882084533572197, test loss 0.007319204974919558\n",
      "epoch 400, train loss 0.006558808032423258, test loss 0.006939351558685303\n",
      "epoch 500, train loss 0.00630670040845871, test loss 0.006691338494420052\n",
      "epoch 600, train loss 0.006100660655647516, test loss 0.006487935781478882\n",
      "epoch 700, train loss 0.00591316306963563, test loss 0.006259978748857975\n",
      "epoch 800, train loss 0.0057889316231012344, test loss 0.006091969087719917\n",
      "epoch 900, train loss 0.005646423436701298, test loss 0.005944870878010988\n",
      "epoch 1000, train loss 0.0055557312443852425, test loss 0.0058110556565225124\n",
      "epoch 1100, train loss 0.0054793707095086575, test loss 0.005705769173800945\n",
      "epoch 1200, train loss 0.005328469444066286, test loss 0.005580054596066475\n",
      "epoch 1300, train loss 0.005242173559963703, test loss 0.005504911299794912\n",
      "epoch 1400, train loss 0.0052257198840379715, test loss 0.005414597690105438\n",
      "epoch 1500, train loss 0.005082278978079557, test loss 0.005303270183503628\n",
      "epoch 1600, train loss 0.005006016697734594, test loss 0.005238119978457689\n",
      "epoch 1700, train loss 0.004944030661135912, test loss 0.005152531433850527\n",
      "epoch 1800, train loss 0.004877664148807526, test loss 0.005105830263346434\n",
      "epoch 1900, train loss 0.004848290700465441, test loss 0.005028318148106337\n",
      "epoch 2000, train loss 0.004771699197590351, test loss 0.005009367596358061\n",
      "epoch 2100, train loss 0.004711853805929422, test loss 0.004936214070767164\n",
      "epoch 2200, train loss 0.004663131199777126, test loss 0.004885910544544458\n",
      "epoch 2300, train loss 0.00462359981611371, test loss 0.004822527524083853\n",
      "epoch 2400, train loss 0.004579879809170961, test loss 0.004785971250385046\n",
      "epoch 2500, train loss 0.004580061417073011, test loss 0.0048319632187485695\n",
      "epoch 2600, train loss 0.004508937243372202, test loss 0.0047126947902143\n",
      "epoch 2700, train loss 0.004477556329220533, test loss 0.004680329468101263\n",
      "epoch 2800, train loss 0.0044493223540484905, test loss 0.004647943656891584\n",
      "epoch 2900, train loss 0.004425420891493559, test loss 0.004612804390490055\n",
      "epoch 3000, train loss 0.00441085547208786, test loss 0.004636013880372047\n",
      "epoch 3100, train loss 0.004372225143015385, test loss 0.004566682502627373\n",
      "epoch 3200, train loss 0.004349661059677601, test loss 0.004546814132481813\n",
      "epoch 3300, train loss 0.0043302979320287704, test loss 0.004514698404818773\n",
      "epoch 3400, train loss 0.004364580847322941, test loss 0.004609299823641777\n",
      "epoch 3500, train loss 0.004304188769310713, test loss 0.004521746654063463\n",
      "epoch 3600, train loss 0.004305530805140734, test loss 0.0045356121845543385\n",
      "epoch 3700, train loss 0.004261279944330454, test loss 0.004439689684659243\n",
      "epoch 3800, train loss 0.004251003731042147, test loss 0.004420876502990723\n",
      "epoch 3900, train loss 0.004231727682054043, test loss 0.004414543975144625\n",
      "epoch 4000, train loss 0.004221785813570023, test loss 0.004417711868882179\n",
      "epoch 4100, train loss 0.004216075874865055, test loss 0.004421910271048546\n",
      "epoch 4200, train loss 0.004197005648165941, test loss 0.004390845540910959\n",
      "epoch 4300, train loss 0.004192668478935957, test loss 0.004369999747723341\n",
      "epoch 4400, train loss 0.004180154763162136, test loss 0.004401482176035643\n",
      "epoch 4500, train loss 0.004169723019003868, test loss 0.004387376364320517\n",
      "epoch 4600, train loss 0.0041565001010894775, test loss 0.0043640476651489735\n",
      "epoch 4700, train loss 0.0041517214849591255, test loss 0.00436599412932992\n",
      "epoch 4800, train loss 0.004142229910939932, test loss 0.004353057127445936\n",
      "epoch 4900, train loss 0.004131758119910955, test loss 0.00433166092261672\n",
      "epoch 5000, train loss 0.0041391681879758835, test loss 0.004308762028813362\n"
     ]
    }
   ],
   "source": [
    "# hyperparams\n",
    "learning_rate = 1e-3\n",
    "epochs = 5000\n",
    "dropout = 0.0\n",
    "\n",
    "# train op\n",
    "optimizer = tf.train.GradientDescentOptimizer(learning_rate = learning_rate)\n",
    "train_op = optimizer.minimize(total_loss)\n",
    "sess = tf.Session()\n",
    "\n",
    "# start train\n",
    "listtrain_loss = []\n",
    "listtest_loss = []\n",
    "\n",
    "sess.run(tf.global_variables_initializer())\n",
    "\n",
    "train_loss = sess.run(loss, feed_dict = {x: x_train, y:y_train, drop_rate: dropout})\n",
    "test_loss = sess.run(loss, feed_dict = {x: x_test, y:y_test, drop_rate: dropout})\n",
    "print(\"epoch 0, train loss {}, test loss {}\".format(train_loss, test_loss))\n",
    "\n",
    "for i in range(1, epochs+1, 1):\n",
    "    for minibatch in range(0, num_train_patterns, b):\n",
    "        sess.run(train_op, feed_dict = {\n",
    "            x: x_train[minibatch:minibatch+b, :],\n",
    "            y: y_train[minibatch:minibatch+b, :],\n",
    "            drop_rate: dropout\n",
    "        })\n",
    "    # each epoch, reshuffle the trainset and record\n",
    "    _indices = np.arange(num_train_patterns)\n",
    "    np.random.shuffle(_indices)\n",
    "    x_train = x_train[_indices]\n",
    "    y_train = y_train[_indices]\n",
    "    \n",
    "    train_loss = sess.run(loss, feed_dict = {x: x_train, y:y_train, drop_rate: 0})\n",
    "    test_loss = sess.run(loss, feed_dict = {x: x_test, y:y_test, drop_rate: 0})\n",
    "    if (i % 100 == 0):\n",
    "        print(\"epoch {}, train loss {}, test loss {}\".format(i, train_loss, test_loss))\n",
    "    listtrain_loss.append(train_loss)\n",
    "    listtest_loss.append(test_loss)"
   ]
  },
  {
   "cell_type": "markdown",
   "metadata": {},
   "source": [
    "## a) Plot train errors and test errors against epochs"
   ]
  },
  {
   "cell_type": "code",
   "execution_count": 7,
   "metadata": {
    "scrolled": false
   },
   "outputs": [
    {
     "data": {
      "text/plain": [
       "[<matplotlib.lines.Line2D at 0x7f863c5d0d50>,\n",
       " <matplotlib.lines.Line2D at 0x7f863c5d0f50>]"
      ]
     },
     "execution_count": 7,
     "metadata": {},
     "output_type": "execute_result"
    },
    {
     "data": {
      "image/png": "[encoded data removed]",
      "text/plain": [
       "<Figure size 921.6x777.6 with 1 Axes>"
      ]
     },
     "metadata": {
      "needs_background": "light"
     },
     "output_type": "display_data"
    }
   ],
   "source": [
    "plt.figure(figsize = (12.8, 10.8))\n",
    "plt.plot(range(epochs), listtrain_loss, \"bs\", range(epochs), listtest_loss, \"g^\")"
   ]
  },
  {
   "cell_type": "markdown",
   "metadata": {},
   "source": [
    "### Train with dropout = 0.2"
   ]
  },
  {
   "cell_type": "code",
   "execution_count": 8,
   "metadata": {},
   "outputs": [
    {
     "name": "stdout",
     "output_type": "stream",
     "text": [
      "(400, 7)\n",
      "(400, 1)\n"
     ]
    }
   ],
   "source": [
    "# Get data\n",
    "x_np = data[:, :-1]\n",
    "y_np = data[:, -1:]\n",
    "print(x_np.shape)\n",
    "print(y_np.shape)\n",
    "\n",
    "x_train = x_np[train_indices]\n",
    "y_train = y_np[train_indices]\n",
    "x_test = x_np[test_indices]\n",
    "y_test = y_np[test_indices]"
   ]
  },
  {
   "cell_type": "code",
   "execution_count": 9,
   "metadata": {},
   "outputs": [
    {
     "name": "stdout",
     "output_type": "stream",
     "text": [
      "epoch 0, train loss 2.1510820388793945, test loss 1.936435580253601\n",
      "epoch 100, train loss 0.011129026301205158, test loss 0.011074123904109001\n",
      "epoch 200, train loss 0.011376199312508106, test loss 0.011367157101631165\n",
      "epoch 300, train loss 0.01007610559463501, test loss 0.010164112783968449\n",
      "epoch 400, train loss 0.01074858196079731, test loss 0.010890846140682697\n",
      "epoch 500, train loss 0.010481651872396469, test loss 0.010651077143847942\n",
      "epoch 600, train loss 0.009717990644276142, test loss 0.009904191829264164\n",
      "epoch 700, train loss 0.010242026299238205, test loss 0.010446480475366116\n",
      "epoch 800, train loss 0.009748696349561214, test loss 0.009947210550308228\n",
      "epoch 900, train loss 0.009665961377322674, test loss 0.009921252727508545\n",
      "epoch 1000, train loss 0.00950411893427372, test loss 0.009747738018631935\n",
      "epoch 1100, train loss 0.009548082947731018, test loss 0.009839850477874279\n",
      "epoch 1200, train loss 0.008861493319272995, test loss 0.009136625565588474\n",
      "epoch 1300, train loss 0.00907886028289795, test loss 0.009406482800841331\n",
      "epoch 1400, train loss 0.009039393626153469, test loss 0.009386994875967503\n",
      "epoch 1500, train loss 0.008970093913376331, test loss 0.009296650066971779\n",
      "epoch 1600, train loss 0.00919704232364893, test loss 0.009555142372846603\n",
      "epoch 1700, train loss 0.008956973440945148, test loss 0.009294793009757996\n",
      "epoch 1800, train loss 0.009040893986821175, test loss 0.009403801523149014\n",
      "epoch 1900, train loss 0.008415375836193562, test loss 0.008723688311874866\n",
      "epoch 2000, train loss 0.008562336675822735, test loss 0.008891221135854721\n",
      "epoch 2100, train loss 0.008944068104028702, test loss 0.009314020164310932\n",
      "epoch 2200, train loss 0.009075437672436237, test loss 0.009454331360757351\n",
      "epoch 2300, train loss 0.008752897381782532, test loss 0.009109201841056347\n",
      "epoch 2400, train loss 0.008479811251163483, test loss 0.008838706649839878\n",
      "epoch 2500, train loss 0.008909881114959717, test loss 0.009304107166826725\n",
      "epoch 2600, train loss 0.008600369095802307, test loss 0.008967576548457146\n",
      "epoch 2700, train loss 0.008558494970202446, test loss 0.00894416868686676\n",
      "epoch 2800, train loss 0.008396360091865063, test loss 0.00876754242926836\n",
      "epoch 2900, train loss 0.008657261729240417, test loss 0.009041874669492245\n",
      "epoch 3000, train loss 0.00871103722602129, test loss 0.009145829826593399\n",
      "epoch 3100, train loss 0.008282030001282692, test loss 0.00863336306065321\n",
      "epoch 3200, train loss 0.008711235597729683, test loss 0.009130921214818954\n",
      "epoch 3300, train loss 0.008673882111907005, test loss 0.009101798757910728\n",
      "epoch 3400, train loss 0.008596827276051044, test loss 0.009019559249281883\n",
      "epoch 3500, train loss 0.008798030205070972, test loss 0.009234736673533916\n",
      "epoch 3600, train loss 0.00859941728413105, test loss 0.009009898640215397\n",
      "epoch 3700, train loss 0.008717113174498081, test loss 0.009142231196165085\n",
      "epoch 3800, train loss 0.008729878813028336, test loss 0.009165409952402115\n",
      "epoch 3900, train loss 0.008561949245631695, test loss 0.008972573094069958\n",
      "epoch 4000, train loss 0.008642217144370079, test loss 0.009055308066308498\n",
      "epoch 4100, train loss 0.008959363214671612, test loss 0.009398816153407097\n",
      "epoch 4200, train loss 0.008411960676312447, test loss 0.008767668157815933\n",
      "epoch 4300, train loss 0.008651082403957844, test loss 0.00906615424901247\n",
      "epoch 4400, train loss 0.00855247676372528, test loss 0.008942948654294014\n",
      "epoch 4500, train loss 0.009008022956550121, test loss 0.009445959702134132\n",
      "epoch 4600, train loss 0.008711695671081543, test loss 0.009099198505282402\n",
      "epoch 4700, train loss 0.008733791299164295, test loss 0.009147382341325283\n",
      "epoch 4800, train loss 0.008672486059367657, test loss 0.00909955333918333\n",
      "epoch 4900, train loss 0.00848864670842886, test loss 0.008856948465108871\n",
      "epoch 5000, train loss 0.009024403057992458, test loss 0.009482411667704582\n"
     ]
    }
   ],
   "source": [
    "# hyperparams\n",
    "learning_rate = 1e-3\n",
    "epochs = 5000\n",
    "dropout = 0.2\n",
    "\n",
    "# train op\n",
    "optimizer = tf.train.GradientDescentOptimizer(learning_rate = learning_rate)\n",
    "train_op = optimizer.minimize(total_loss)\n",
    "sess = tf.Session()\n",
    "\n",
    "# start train\n",
    "listtrain_loss = []\n",
    "listtest_loss = []\n",
    "\n",
    "sess.run(tf.global_variables_initializer())\n",
    "\n",
    "train_loss = sess.run(loss, feed_dict = {x: x_train, y:y_train, drop_rate: dropout})\n",
    "test_loss = sess.run(loss, feed_dict = {x: x_test, y:y_test, drop_rate: dropout})\n",
    "print(\"epoch 0, train loss {}, test loss {}\".format(train_loss, test_loss))\n",
    "\n",
    "for i in range(1, epochs+1, 1):\n",
    "    for minibatch in range(0, num_train_patterns, b):\n",
    "        sess.run(train_op, feed_dict = {\n",
    "            x: x_train[minibatch:minibatch+b, :],\n",
    "            y: y_train[minibatch:minibatch+b, :],\n",
    "            drop_rate: dropout\n",
    "        })\n",
    "    # each epoch, reshuffle the trainset and record\n",
    "    _indices = np.arange(num_train_patterns)\n",
    "    np.random.shuffle(_indices)\n",
    "    x_train = x_train[_indices]\n",
    "    y_train = y_train[_indices]\n",
    "    \n",
    "    train_loss = sess.run(loss, feed_dict = {x: x_train, y:y_train, drop_rate: 0})\n",
    "    test_loss = sess.run(loss, feed_dict = {x: x_test, y:y_test, drop_rate: 0})\n",
    "    if (i % 100 == 0):\n",
    "        print(\"epoch {}, train loss {}, test loss {}\".format(i, train_loss, test_loss))\n",
    "    listtrain_loss.append(train_loss)\n",
    "    listtest_loss.append(test_loss)"
   ]
  },
  {
   "cell_type": "markdown",
   "metadata": {},
   "source": [
    "## a) Plot train errors and test errors against epochs"
   ]
  },
  {
   "cell_type": "code",
   "execution_count": 10,
   "metadata": {
    "scrolled": false
   },
   "outputs": [
    {
     "data": {
      "text/plain": [
       "[<matplotlib.lines.Line2D at 0x7f863c3e7350>,\n",
       " <matplotlib.lines.Line2D at 0x7f863c3e7550>]"
      ]
     },
     "execution_count": 10,
     "metadata": {},
     "output_type": "execute_result"
    },
    {
     "data": {
      "image/png": "[encoded data removed]",
      "text/plain": [
       "<Figure size 921.6x777.6 with 1 Axes>"
      ]
     },
     "metadata": {
      "needs_background": "light"
     },
     "output_type": "display_data"
    }
   ],
   "source": [
    "plt.figure(figsize = (12.8, 10.8))\n",
    "plt.plot(range(epochs), listtrain_loss, \"bs\", range(epochs), listtest_loss, \"g^\")"
   ]
  },
  {
   "cell_type": "code",
   "execution_count": 23,
   "metadata": {},
   "outputs": [],
   "source": [
    "sess.close()"
   ]
  }
 ],
 "metadata": {
  "kernelspec": {
   "display_name": "Python 3",
   "language": "python",
   "name": "python3"
  },
  "language_info": {
   "codemirror_mode": {
    "name": "ipython",
    "version": 3
   },
   "file_extension": ".py",
   "mimetype": "text/x-python",
   "name": "python",
   "nbconvert_exporter": "python",
   "pygments_lexer": "ipython3",
   "version": "3.7.4"
  }
 },
 "nbformat": 4,
 "nbformat_minor": 2
}
