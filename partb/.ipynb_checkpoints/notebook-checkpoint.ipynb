{
 "cells": [
  {
   "cell_type": "markdown",
   "metadata": {},
   "source": [
    "# PartB: Regression Problem"
   ]
  },
  {
   "cell_type": "markdown",
   "metadata": {},
   "source": [
    "## 0. Read Data"
   ]
  },
  {
   "cell_type": "code",
   "execution_count": 2,
   "metadata": {},
   "outputs": [
    {
     "data": {
      "text/html": [
       "<div>\n",
       "<style scoped>\n",
       "    .dataframe tbody tr th:only-of-type {\n",
       "        vertical-align: middle;\n",
       "    }\n",
       "\n",
       "    .dataframe tbody tr th {\n",
       "        vertical-align: top;\n",
       "    }\n",
       "\n",
       "    .dataframe thead th {\n",
       "        text-align: right;\n",
       "    }\n",
       "</style>\n",
       "<table border=\"1\" class=\"dataframe\">\n",
       "  <thead>\n",
       "    <tr style=\"text-align: right;\">\n",
       "      <th></th>\n",
       "      <th>GRE Score</th>\n",
       "      <th>TOEFL Score</th>\n",
       "      <th>University Rating</th>\n",
       "      <th>SOP</th>\n",
       "      <th>LOR</th>\n",
       "      <th>CGPA</th>\n",
       "      <th>Research</th>\n",
       "      <th>Chance of Admit</th>\n",
       "    </tr>\n",
       "  </thead>\n",
       "  <tbody>\n",
       "    <tr>\n",
       "      <td>0</td>\n",
       "      <td>337</td>\n",
       "      <td>118</td>\n",
       "      <td>4</td>\n",
       "      <td>4.5</td>\n",
       "      <td>4.5</td>\n",
       "      <td>9.65</td>\n",
       "      <td>1</td>\n",
       "      <td>0.92</td>\n",
       "    </tr>\n",
       "    <tr>\n",
       "      <td>1</td>\n",
       "      <td>324</td>\n",
       "      <td>107</td>\n",
       "      <td>4</td>\n",
       "      <td>4.0</td>\n",
       "      <td>4.5</td>\n",
       "      <td>8.87</td>\n",
       "      <td>1</td>\n",
       "      <td>0.76</td>\n",
       "    </tr>\n",
       "    <tr>\n",
       "      <td>2</td>\n",
       "      <td>316</td>\n",
       "      <td>104</td>\n",
       "      <td>3</td>\n",
       "      <td>3.0</td>\n",
       "      <td>3.5</td>\n",
       "      <td>8.00</td>\n",
       "      <td>1</td>\n",
       "      <td>0.72</td>\n",
       "    </tr>\n",
       "    <tr>\n",
       "      <td>3</td>\n",
       "      <td>322</td>\n",
       "      <td>110</td>\n",
       "      <td>3</td>\n",
       "      <td>3.5</td>\n",
       "      <td>2.5</td>\n",
       "      <td>8.67</td>\n",
       "      <td>1</td>\n",
       "      <td>0.80</td>\n",
       "    </tr>\n",
       "    <tr>\n",
       "      <td>4</td>\n",
       "      <td>314</td>\n",
       "      <td>103</td>\n",
       "      <td>2</td>\n",
       "      <td>2.0</td>\n",
       "      <td>3.0</td>\n",
       "      <td>8.21</td>\n",
       "      <td>0</td>\n",
       "      <td>0.65</td>\n",
       "    </tr>\n",
       "    <tr>\n",
       "      <td>...</td>\n",
       "      <td>...</td>\n",
       "      <td>...</td>\n",
       "      <td>...</td>\n",
       "      <td>...</td>\n",
       "      <td>...</td>\n",
       "      <td>...</td>\n",
       "      <td>...</td>\n",
       "      <td>...</td>\n",
       "    </tr>\n",
       "    <tr>\n",
       "      <td>395</td>\n",
       "      <td>324</td>\n",
       "      <td>110</td>\n",
       "      <td>3</td>\n",
       "      <td>3.5</td>\n",
       "      <td>3.5</td>\n",
       "      <td>9.04</td>\n",
       "      <td>1</td>\n",
       "      <td>0.82</td>\n",
       "    </tr>\n",
       "    <tr>\n",
       "      <td>396</td>\n",
       "      <td>325</td>\n",
       "      <td>107</td>\n",
       "      <td>3</td>\n",
       "      <td>3.0</td>\n",
       "      <td>3.5</td>\n",
       "      <td>9.11</td>\n",
       "      <td>1</td>\n",
       "      <td>0.84</td>\n",
       "    </tr>\n",
       "    <tr>\n",
       "      <td>397</td>\n",
       "      <td>330</td>\n",
       "      <td>116</td>\n",
       "      <td>4</td>\n",
       "      <td>5.0</td>\n",
       "      <td>4.5</td>\n",
       "      <td>9.45</td>\n",
       "      <td>1</td>\n",
       "      <td>0.91</td>\n",
       "    </tr>\n",
       "    <tr>\n",
       "      <td>398</td>\n",
       "      <td>312</td>\n",
       "      <td>103</td>\n",
       "      <td>3</td>\n",
       "      <td>3.5</td>\n",
       "      <td>4.0</td>\n",
       "      <td>8.78</td>\n",
       "      <td>0</td>\n",
       "      <td>0.67</td>\n",
       "    </tr>\n",
       "    <tr>\n",
       "      <td>399</td>\n",
       "      <td>333</td>\n",
       "      <td>117</td>\n",
       "      <td>4</td>\n",
       "      <td>5.0</td>\n",
       "      <td>4.0</td>\n",
       "      <td>9.66</td>\n",
       "      <td>1</td>\n",
       "      <td>0.95</td>\n",
       "    </tr>\n",
       "  </tbody>\n",
       "</table>\n",
       "<p>400 rows × 8 columns</p>\n",
       "</div>"
      ],
      "text/plain": [
       "     GRE Score  TOEFL Score  University Rating  SOP  LOR  CGPA  Research  \\\n",
       "0          337          118                  4  4.5  4.5  9.65         1   \n",
       "1          324          107                  4  4.0  4.5  8.87         1   \n",
       "2          316          104                  3  3.0  3.5  8.00         1   \n",
       "3          322          110                  3  3.5  2.5  8.67         1   \n",
       "4          314          103                  2  2.0  3.0  8.21         0   \n",
       "..         ...          ...                ...  ...  ...   ...       ...   \n",
       "395        324          110                  3  3.5  3.5  9.04         1   \n",
       "396        325          107                  3  3.0  3.5  9.11         1   \n",
       "397        330          116                  4  5.0  4.5  9.45         1   \n",
       "398        312          103                  3  3.5  4.0  8.78         0   \n",
       "399        333          117                  4  5.0  4.0  9.66         1   \n",
       "\n",
       "     Chance of Admit  \n",
       "0               0.92  \n",
       "1               0.76  \n",
       "2               0.72  \n",
       "3               0.80  \n",
       "4               0.65  \n",
       "..               ...  \n",
       "395             0.82  \n",
       "396             0.84  \n",
       "397             0.91  \n",
       "398             0.67  \n",
       "399             0.95  \n",
       "\n",
       "[400 rows x 8 columns]"
      ]
     },
     "execution_count": 2,
     "metadata": {},
     "output_type": "execute_result"
    }
   ],
   "source": [
    "import pandas as pd\n",
    "data = pd.read_csv(\"./data/admission_predict.csv\")\n",
    "data = pd.DataFrame(data, columns = data.columns.delete(0))\n",
    "data"
   ]
  },
  {
   "cell_type": "code",
   "execution_count": 3,
   "metadata": {},
   "outputs": [
    {
     "name": "stdout",
     "output_type": "stream",
     "text": [
      "data_x.shape: (400, 7)\n",
      "data_y.shape: (400, 1)\n"
     ]
    }
   ],
   "source": [
    "data_x = pd.DataFrame(data, columns = data.columns.delete(-1))\n",
    "print(\"data_x.shape: {}\".format(data_x.shape))\n",
    "data_y = pd.DataFrame(data, columns = (data.columns[-1],))\n",
    "print(\"data_y.shape: {}\".format(data_y.shape))"
   ]
  },
  {
   "cell_type": "code",
   "execution_count": 4,
   "metadata": {},
   "outputs": [
    {
     "name": "stdout",
     "output_type": "stream",
     "text": [
      "x_np.shape: (400, 7)\n",
      "y_np.shape: (400, 1)\n"
     ]
    }
   ],
   "source": [
    "import numpy as np\n",
    "x_np = np.array(data_x)\n",
    "print(\"x_np.shape: {}\".format(x_np.shape))\n",
    "y_np = np.array(data_y)\n",
    "print(\"y_np.shape: {}\".format(y_np.shape))"
   ]
  },
  {
   "cell_type": "markdown",
   "metadata": {},
   "source": [
    "## 1. Build 3-layer feed forward neural network\n",
    "```\n",
    "Design a 3-layer feedforward neural network consists of an input layer, a hidden-layer of 10 neurons having ReLU activation functions, and a linear output layer. Use mini-batch gradient descent with a batch size=8, 𝐿2 regularization at weight decay parameter 𝛽=10−3 and a learning rate 𝛼=10−3 to train the network.\n",
    "a)Use the train dataset to train the model and plot both the train and test errors against epochs.\n",
    "b)State the approximate number of epochs where the test error is minimum and use it to stop training.\n",
    "c)Plot the predicted values and target values for any 50 test samples\n",
    "```"
   ]
  },
  {
   "cell_type": "markdown",
   "metadata": {},
   "source": [
    "### Mathematical Model\n",
    "```\n",
    "n: number of features,\n",
    "b: batch size\n",
    "x: R bxn\n",
    "y: R bx1\n",
    "\n",
    "h: number of hidden neurons\n",
    "\n",
    "hidden: R bxh = relu(x w1 + b1*)\n",
    "    w1 (weight of hidden neurons): R nxh\n",
    "    b1*: R bxh = 1* b1\n",
    "    b1 (bias of hidden neurons): R 1xh\n",
    "    1* (vector R bx1)\n",
    "\n",
    "yp (output): R bx1 = linear(hidden w2 + b2*)\n",
    "    w2 (weight of output neuron): R hx1\n",
    "    b2*: R bx1 = 1* b2\n",
    "    b2 (bias of output neurons): R 1x1\n",
    "    1* (vector R bx1)\n",
    "\n",
    "\"\"\" We can omit 1* in tensorflow\n",
    "```"
   ]
  },
  {
   "cell_type": "markdown",
   "metadata": {},
   "source": [
    "### Build Graph"
   ]
  },
  {
   "cell_type": "code",
   "execution_count": 5,
   "metadata": {},
   "outputs": [],
   "source": [
    "import tensorflow as tf\n",
    "# fixed params\n",
    "n = 7 # number of features\n",
    "\n",
    "# hyperparams\n",
    "learning_rate = 1e-3\n",
    "regularization_decay = 1e-3\n",
    "epochs = 1000\n",
    "b = 8 # batch size\n",
    "h = 10 # number of hidden layer neurons\n",
    "# random\n",
    "seed1 = 10\n",
    "seed2 = 20\n",
    "np.random.seed(seed1)\n",
    "tf.random.set_random_seed(seed2)\n",
    "\n",
    "\n",
    "# 3-layer \n",
    "# placeholders\n",
    "x_shape = (None, n) # patterns are row vectors.\n",
    "y_shape = (None, 1) # predicted values are a cell in a column vector.\n",
    "x = tf.placeholder(dtype = tf.float32, shape = x_shape, name = \"x\")\n",
    "y = tf.placeholder(dtype = tf.float32, shape = y_shape, name = \"y\")\n",
    "\n",
    "# weight, biases\n",
    "w1_shape = (n, h)\n",
    "b1_shape = (1, h)\n",
    "w1 = tf.Variable(tf.random.truncated_normal(shape = w1_shape, stddev=1.0 / np.sqrt(n), dtype=tf.float32), name='w1') # taken from start_project1b\n",
    "b1 = tf.Variable(tf.random.normal(shape = b1_shape, dtype = tf.float32), name = \"b1\") # take arbitrary\n",
    "\n",
    "w2_shape = (h, 1)\n",
    "b2_shape = (1, 1)\n",
    "w2 = tf.Variable(tf.random.truncated_normal(shape = w2_shape, stddev = 1.0 / np.sqrt(h), dtype = tf.float32), name = \"w2\")\n",
    "b2 = tf.Variable(tf.random.normal(shape = b2_shape, dtype = tf.float32), name = \"b2\")\n",
    "\n",
    "# computation graph -> on default graph\n",
    "\n",
    "hidden = tf.nn.relu(tf.linalg.matmul(x, w1) + b1, name = \"hidden\")\n",
    "yp = tf.identity(tf.linalg.matmul(hidden, w2) + b2, name = \"yp\")\n",
    "\n",
    "# MSE loss + L2 regularization\n",
    "loss = 0.5 * tf.reduce_mean(tf.math.square(yp - y))\n",
    "regularization_loss = tf.reduce_sum(tf.math.square(w1)) + tf.reduce_sum(tf.math.square(w2))\n",
    "total_loss = loss + regularization_decay * regularization_loss"
   ]
  },
  {
   "cell_type": "markdown",
   "metadata": {},
   "source": [
    "### Train"
   ]
  },
  {
   "cell_type": "code",
   "execution_count": 20,
   "metadata": {},
   "outputs": [
    {
     "name": "stdout",
     "output_type": "stream",
     "text": [
      "epoch 100, train mse 11.371252059936523, test mse 11.352258682250977\n",
      "epoch 200, train mse 0.020762067288160324, test mse 0.01926722563803196\n",
      "epoch 300, train mse 0.010438799858093262, test mse 0.009471521712839603\n",
      "epoch 400, train mse 0.010429139249026775, test mse 0.0094777662307024\n",
      "epoch 500, train mse 0.010429123416543007, test mse 0.009478224441409111\n",
      "epoch 600, train mse 0.010429122485220432, test mse 0.009478232823312283\n",
      "epoch 700, train mse 0.010429122485220432, test mse 0.009478232823312283\n",
      "epoch 800, train mse 0.010429122485220432, test mse 0.009478232823312283\n",
      "epoch 900, train mse 0.010429122485220432, test mse 0.009478232823312283\n",
      "epoch 1000, train mse 0.010429122485220432, test mse 0.009478232823312283\n"
     ]
    }
   ],
   "source": [
    "optimizer = tf.train.GradientDescentOptimizer(learning_rate = learning_rate)\n",
    "train_op = optimizer.minimize(total_loss)\n",
    "\n",
    "num_patterns = x_np.shape[0]\n",
    "\n",
    "indices = np.arange(num_patterns)\n",
    "\n",
    "\n",
    "np.random.shuffle(indices)\n",
    "train_indices = indices[:int(0.7*num_patterns)]\n",
    "test_indices = indices[int(0.7*num_patterns):]\n",
    "\n",
    "x_train = x_np[train_indices]\n",
    "y_train = y_np[train_indices]\n",
    "x_test = x_np[test_indices]\n",
    "y_test = y_np[test_indices]\n",
    "num_train_patterns = x_train.shape[0]\n",
    "num_test_patterns = x_test.shape[0]\n",
    "\n",
    "epochs = 1000\n",
    "listerr = []\n",
    "listtrainmse = []\n",
    "listtestmse = []\n",
    "#with tf.Session() as sess:\n",
    "sess = tf.Session()\n",
    "sess.run(tf.global_variables_initializer())    \n",
    "for i in range(1, epochs+1, 1):\n",
    "        sumerr = 0\n",
    "        num_minibatches = 0\n",
    "        for minibatch in range(0, num_train_patterns, b):\n",
    "            err, _ = sess.run((total_loss, train_op), feed_dict = {\n",
    "                x: x_train[minibatch:minibatch+b, :],\n",
    "                y: y_train[minibatch:minibatch+b, :],\n",
    "            })\n",
    "            #print(\"\\terr: \", err)\n",
    "            sumerr += err\n",
    "            num_minibatches += 1\n",
    "        sumerr /= num_minibatches\n",
    "        batch_mse = sess.run(loss, feed_dict = {x: x_train, y:y_train})\n",
    "        test_mse = sess.run(loss, feed_dict = {x: x_test, y:y_test})\n",
    "        if (i % 100 == 0):\n",
    "            print(\"epoch {}, train mse {}, test mse {}\".format(i, batch_mse, test_mse))\n",
    "        listerr.append(sumerr)\n",
    "        listtrainmse.append(batch_mse)\n",
    "        listtestmse.append(test_mse)"
   ]
  },
  {
   "cell_type": "code",
   "execution_count": 9,
   "metadata": {
    "scrolled": true
   },
   "outputs": [
    {
     "data": {
      "image/png": "[encoded data removed]",
      "text/plain": [
       "<Figure size 921.6x777.6 with 1 Axes>"
      ]
     },
     "metadata": {
      "needs_background": "light"
     },
     "output_type": "display_data"
    }
   ],
   "source": [
    "import matplotlib.pyplot as plt\n",
    "plt.figure(figsize = (12.8, 10.8))\n",
    "plt.plot(range(epochs), listtrainmse, \"bs\", range(epochs), listtestmse, \"g^\")\n",
    "plt.show()"
   ]
  },
  {
   "cell_type": "code",
   "execution_count": 21,
   "metadata": {},
   "outputs": [
    {
     "name": "stdout",
     "output_type": "stream",
     "text": [
      "epoch 100, train mse 0.026249466463923454, test mse 0.024625448510050774\n",
      "epoch 200, train mse 0.0104438541457057, test mse 0.009472682140767574\n",
      "epoch 300, train mse 0.010429147630929947, test mse 0.009477655403316021\n"
     ]
    },
    {
     "data": {
      "image/png": "[encoded data removed]",
      "text/plain": [
       "<Figure size 432x288 with 1 Axes>"
      ]
     },
     "metadata": {
      "needs_background": "light"
     },
     "output_type": "display_data"
    }
   ],
   "source": [
    "epochs = 300\n",
    "listerr = []\n",
    "listtrainmse = []\n",
    "listtestmse = []\n",
    "sess.run(tf.global_variables_initializer())    \n",
    "for i in range(1, epochs+1, 1):\n",
    "        sumerr = 0\n",
    "        num_minibatches = 0\n",
    "        for minibatch in range(0, num_train_patterns, b):\n",
    "            err, _ = sess.run((total_loss, train_op), feed_dict = {\n",
    "                x: x_train[minibatch:minibatch+b, :],\n",
    "                y: y_train[minibatch:minibatch+b, :],\n",
    "            })\n",
    "            #print(\"\\terr: \", err)\n",
    "            sumerr += err\n",
    "            num_minibatches += 1\n",
    "        sumerr /= num_minibatches            \n",
    "        batch_mse = sess.run(loss, feed_dict = {x: x_train, y:y_train})\n",
    "        test_mse = sess.run(loss, feed_dict = {x: x_test, y:y_test})\n",
    "        if (i % 100 == 0):\n",
    "            print(\"epoch {}, train mse {}, test mse {}\".format(i, batch_mse, test_mse))\n",
    "        listerr.append(sumerr)\n",
    "        listtrainmse.append(batch_mse)\n",
    "        listtestmse.append(test_mse)\n",
    "\n",
    "\n",
    "plt.plot(range(epochs), listtrainmse, \"bs\", range(epochs), listtestmse, \"g^\")\n",
    "plt.show()"
   ]
  },
  {
   "cell_type": "code",
   "execution_count": 22,
   "metadata": {},
   "outputs": [
    {
     "data": {
      "image/png": "[encoded data removed]",
      "text/plain": [
       "<Figure size 432x288 with 1 Axes>"
      ]
     },
     "metadata": {
      "needs_background": "light"
     },
     "output_type": "display_data"
    }
   ],
   "source": [
    "x_test50 = x_test[0:50, :]\n",
    "y_test50 = y_test[0:50, :]\n",
    "\n",
    "y_pred = sess.run(yp, feed_dict = {x: x_test50})\n",
    "\n",
    "plt.plot(range(50), (y_pred - y_test50), \"ro\")\n",
    "plt.show()"
   ]
  },
  {
   "cell_type": "code",
   "execution_count": 23,
   "metadata": {},
   "outputs": [],
   "source": [
    "sess.close()"
   ]
  }
 ],
 "metadata": {
  "kernelspec": {
   "display_name": "Python 3",
   "language": "python",
   "name": "python3"
  },
  "language_info": {
   "codemirror_mode": {
    "name": "ipython",
    "version": 3
   },
   "file_extension": ".py",
   "mimetype": "text/x-python",
   "name": "python",
   "nbconvert_exporter": "python",
   "pygments_lexer": "ipython3",
   "version": "3.7.4"
  }
 },
 "nbformat": 4,
 "nbformat_minor": 2
}
