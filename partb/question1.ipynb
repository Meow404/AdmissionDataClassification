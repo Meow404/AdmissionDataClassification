{
 "cells": [
  {
   "cell_type": "markdown",
   "metadata": {},
   "source": [
    "# PartB: Regression Problem"
   ]
  },
  {
   "cell_type": "code",
   "execution_count": 1,
   "metadata": {},
   "outputs": [],
   "source": [
    "#IMPORT\n",
    "from data import readData\n",
    "import numpy as np\n",
    "import tensorflow as tf\n",
    "import matplotlib.pyplot as plt\n",
    "sess = tf.Session()"
   ]
  },
  {
   "cell_type": "markdown",
   "metadata": {},
   "source": [
    "## 0. Read Data and Normalize"
   ]
  },
  {
   "cell_type": "code",
   "execution_count": 2,
   "metadata": {},
   "outputs": [],
   "source": [
    "data = readData()\n",
    "data = data / np.array((340, 120, 5, 5, 5, 10, 1, 1))"
   ]
  },
  {
   "cell_type": "markdown",
   "metadata": {},
   "source": [
    "# Train Test split"
   ]
  },
  {
   "cell_type": "code",
   "execution_count": 3,
   "metadata": {},
   "outputs": [],
   "source": [
    "# prepare data\n",
    "# random\n",
    "np.random.seed(231535622)\n",
    "\n",
    "num_patterns = data.shape[0]\n",
    "num_train_patterns = int(0.7*num_patterns)\n",
    "total_indices = np.arange(num_patterns)\n",
    "\n",
    "np.random.shuffle(total_indices)\n",
    "train_indices = total_indices[:int(0.7*num_patterns)]\n",
    "test_indices = total_indices[int(0.7*num_patterns):]"
   ]
  },
  {
   "cell_type": "markdown",
   "metadata": {},
   "source": [
    "# 1. Build 3-layer feed forward neural network\n",
    "```\n",
    "Design a 3-layer feedforward neural network consists of an input layer, a hidden-layer of 10 neurons having ReLU activation functions, and a linear output layer. Use mini-batch gradient descent with a batch size=8, 𝐿2 regularization at weight decay parameter 𝛽=10−3 and a learning rate 𝛼=10−3 to train the network.\n",
    "a)Use the train dataset to train the model and plot both the train and test errors against epochs.\n",
    "b)State the approximate number of epochs where the test error is minimum and use it to stop training.\n",
    "c)Plot the predicted values and target values for any 50 test samples\n",
    "```"
   ]
  },
  {
   "cell_type": "markdown",
   "metadata": {},
   "source": [
    "### Mathematical Model\n",
    "```\n",
    "n: number of features,\n",
    "b: batch size\n",
    "x: R bxn\n",
    "y: R bx1\n",
    "\n",
    "h: number of hidden neurons\n",
    "\n",
    "hidden: R bxh = relu(x w1 + b1*)\n",
    "    w1 (weight of hidden neurons): R nxh\n",
    "    b1*: R bxh = 1* b1\n",
    "    b1 (bias of hidden neurons): R 1xh\n",
    "    1* (vector R bx1)\n",
    "\n",
    "yp (output): R bx1 = linear(hidden w2 + b2*)\n",
    "    w2 (weight of output neuron): R hx1\n",
    "    b2*: R bx1 = 1* b2\n",
    "    b2 (bias of output neurons): R 1x1\n",
    "    1* (vector R bx1)\n",
    "\n",
    "\"\"\" We can omit 1* in tensorflow\n",
    "```"
   ]
  },
  {
   "cell_type": "markdown",
   "metadata": {},
   "source": [
    "### Build Graph"
   ]
  },
  {
   "cell_type": "code",
   "execution_count": 4,
   "metadata": {},
   "outputs": [],
   "source": [
    "# fixed params\n",
    "n = 7 # number of features\n",
    "b = 8 # batch size\n",
    "h = 10 # number of hidden layer neurons\n",
    "regularization_decay = 1e-3\n",
    "# random\n",
    "seed1 = 10\n",
    "seed2 = 20\n",
    "np.random.seed(seed1)\n",
    "tf.random.set_random_seed(seed2)\n",
    "\n",
    "\n",
    "# 3-layer \n",
    "# placeholders\n",
    "x_shape = (None, n) # patterns are row vectors.\n",
    "y_shape = (None, 1) # predicted values are a cell in a column vector.\n",
    "x = tf.placeholder(dtype = tf.float32, shape = x_shape, name = \"x\")\n",
    "y = tf.placeholder(dtype = tf.float32, shape = y_shape, name = \"y\")\n",
    "\n",
    "# weight, biases\n",
    "w1_shape = (n, h)\n",
    "b1_shape = (1, h)\n",
    "w1 = tf.Variable(tf.random.truncated_normal(shape = w1_shape, stddev=1.0 / np.sqrt(n), dtype=tf.float32), name='w1') # taken from start_project1b\n",
    "b1 = tf.Variable(tf.random.normal(shape = b1_shape, dtype = tf.float32), name = \"b1\") # take arbitrary\n",
    "\n",
    "w2_shape = (h, 1)\n",
    "b2_shape = (1, 1)\n",
    "w2 = tf.Variable(tf.random.truncated_normal(shape = w2_shape, stddev = 1.0 / np.sqrt(h), dtype = tf.float32), name = \"w2\")\n",
    "b2 = tf.Variable(tf.random.normal(shape = b2_shape, dtype = tf.float32), name = \"b2\")\n",
    "\n",
    "hidden = tf.nn.relu(tf.linalg.matmul(x, w1) + b1, name = \"hidden\")\n",
    "yp = tf.identity(tf.linalg.matmul(hidden, w2) + b2, name = \"yp\")\n",
    "#yp = tf.math.sigmoid(tf.linalg.matmul(hidden, w2) + b2, name = \"yp\")\n",
    "\n",
    "# loss + L2 regularization\n",
    "#loss = tf.reduce_mean(tf.math.abs(yp - y))\n",
    "loss = tf.reduce_mean(tf.math.log(tf.math.cosh(yp - y)))\n",
    "#loss = tf.reduce_mean(tf.math.square(yp - y))\n",
    "\n",
    "regularization_loss = tf.reduce_mean(tf.math.square(w1)) + tf.reduce_mean(tf.math.square(w2))\n",
    "total_loss = loss + regularization_decay * regularization_loss"
   ]
  },
  {
   "cell_type": "markdown",
   "metadata": {},
   "source": [
    "### Train"
   ]
  },
  {
   "cell_type": "code",
   "execution_count": 5,
   "metadata": {},
   "outputs": [
    {
     "name": "stdout",
     "output_type": "stream",
     "text": [
      "(400, 7)\n",
      "(400, 1)\n"
     ]
    }
   ],
   "source": [
    "# Get data\n",
    "x_np = data[:, :-1]\n",
    "y_np = data[:, -1:]\n",
    "print(x_np.shape)\n",
    "print(y_np.shape)\n",
    "\n",
    "x_train = x_np[train_indices]\n",
    "y_train = y_np[train_indices]\n",
    "x_test = x_np[test_indices]\n",
    "y_test = y_np[test_indices]"
   ]
  },
  {
   "cell_type": "code",
   "execution_count": 6,
   "metadata": {},
   "outputs": [
    {
     "name": "stdout",
     "output_type": "stream",
     "text": [
      "epoch 0, train loss 0.027852129191160202, test loss 0.026933806017041206\n",
      "epoch 100, train loss 0.007767871487885714, test loss 0.007609252352267504\n",
      "epoch 200, train loss 0.005355800036340952, test loss 0.005617179907858372\n",
      "epoch 300, train loss 0.004596731625497341, test loss 0.0050270105712115765\n",
      "epoch 400, train loss 0.004257094115018845, test loss 0.0047638555988669395\n",
      "epoch 500, train loss 0.004063654690980911, test loss 0.00460602855309844\n",
      "epoch 600, train loss 0.003930571489036083, test loss 0.004490657709538937\n",
      "epoch 700, train loss 0.0038276033010333776, test loss 0.004395236261188984\n",
      "epoch 800, train loss 0.0037421106826514006, test loss 0.004311991855502129\n",
      "epoch 900, train loss 0.00366993504576385, test loss 0.004236365202814341\n",
      "epoch 1000, train loss 0.00360732339322567, test loss 0.004166735336184502\n"
     ]
    }
   ],
   "source": [
    "# hyperparams\n",
    "learning_rate = 1e-3\n",
    "epochs = 1000\n",
    "\n",
    "# train op\n",
    "optimizer = tf.train.GradientDescentOptimizer(learning_rate = learning_rate)\n",
    "train_op = optimizer.minimize(total_loss)\n",
    "\n",
    "# start train\n",
    "listtrain_loss = []\n",
    "listtest_loss = []\n",
    "\n",
    "sess.run(tf.global_variables_initializer())\n",
    "\n",
    "train_loss = sess.run(loss, feed_dict = {x: x_train, y:y_train})\n",
    "test_loss = sess.run(loss, feed_dict = {x: x_test, y:y_test})\n",
    "print(\"epoch 0, train loss {}, test loss {}\".format(train_loss, test_loss))\n",
    "\n",
    "for i in range(1, epochs+1, 1):\n",
    "    for minibatch in range(0, num_train_patterns, b):\n",
    "        sess.run(train_op, feed_dict = {\n",
    "            x: x_train[minibatch:minibatch+b, :],\n",
    "            y: y_train[minibatch:minibatch+b, :],\n",
    "        })\n",
    "    \n",
    "    # each epoch, reshuffle the trainset and record\n",
    "    _indices = np.arange(num_train_patterns)\n",
    "    np.random.shuffle(_indices)\n",
    "    x_train = x_train[_indices]\n",
    "    y_train = y_train[_indices]\n",
    "    \n",
    "    train_loss = sess.run(loss, feed_dict = {x: x_train, y:y_train})\n",
    "    test_loss = sess.run(loss, feed_dict = {x: x_test, y:y_test})\n",
    "    if (i % 100 == 0):\n",
    "        print(\"epoch {}, train loss {}, test loss {}\".format(i, train_loss, test_loss))\n",
    "    listtrain_loss.append(train_loss)\n",
    "    listtest_loss.append(test_loss)"
   ]
  },
  {
   "cell_type": "markdown",
   "metadata": {},
   "source": [
    "## a) Plot train errors and test errors against epochs"
   ]
  },
  {
   "cell_type": "code",
   "execution_count": 7,
   "metadata": {
    "scrolled": false
   },
   "outputs": [
    {
     "data": {
      "text/plain": [
       "[<matplotlib.lines.Line2D at 0x7fcd506eccd0>,\n",
       " <matplotlib.lines.Line2D at 0x7fcd506ecf90>]"
      ]
     },
     "execution_count": 7,
     "metadata": {},
     "output_type": "execute_result"
    },
    {
     "data": {
      "image/png": "[encoded data removed]",
      "text/plain": [
       "<Figure size 921.6x777.6 with 1 Axes>"
      ]
     },
     "metadata": {
      "needs_background": "light"
     },
     "output_type": "display_data"
    }
   ],
   "source": [
    "plt.figure(figsize = (12.8, 10.8))\n",
    "plt.plot(range(epochs), listtrain_loss, \"bs\", range(epochs), listtest_loss, \"g^\")"
   ]
  },
  {
   "cell_type": "markdown",
   "metadata": {},
   "source": [
    "## b) Approximate steady state\n",
    "Epoch: 1000"
   ]
  },
  {
   "cell_type": "markdown",
   "metadata": {},
   "source": [
    "## c) Plot the predicted values and target values for any 50 test samples\n",
    "\n",
    "Comments:\n",
    "    ..."
   ]
  },
  {
   "cell_type": "code",
   "execution_count": 8,
   "metadata": {},
   "outputs": [
    {
     "data": {
      "text/plain": [
       "[<matplotlib.lines.Line2D at 0x7fcd501cd490>,\n",
       " <matplotlib.lines.Line2D at 0x7fcd501cd6d0>]"
      ]
     },
     "execution_count": 8,
     "metadata": {},
     "output_type": "execute_result"
    },
    {
     "data": {
      "image/png": "[encoded data removed]",
      "text/plain": [
       "<Figure size 921.6x777.6 with 1 Axes>"
      ]
     },
     "metadata": {
      "needs_background": "light"
     },
     "output_type": "display_data"
    }
   ],
   "source": [
    "x_test50 = x_test[0:50, :]\n",
    "y_test50 = y_test[0:50, :]\n",
    "\n",
    "y_pred = sess.run(yp, feed_dict = {x: x_test50})\n",
    "plt.figure(figsize = (12.8, 10.8))\n",
    "plt.plot(range(50), y_test50, \"ro\", range(50), y_pred, \"g^\")"
   ]
  },
  {
   "cell_type": "code",
   "execution_count": 9,
   "metadata": {},
   "outputs": [],
   "source": [
    "sess.close()"
   ]
  }
 ],
 "metadata": {
  "kernelspec": {
   "display_name": "Python 3",
   "language": "python",
   "name": "python3"
  },
  "language_info": {
   "codemirror_mode": {
    "name": "ipython",
    "version": 3
   },
   "file_extension": ".py",
   "mimetype": "text/x-python",
   "name": "python",
   "nbconvert_exporter": "python",
   "pygments_lexer": "ipython3",
   "version": "3.7.4"
  }
 },
 "nbformat": 4,
 "nbformat_minor": 2
}
