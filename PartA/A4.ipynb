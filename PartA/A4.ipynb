{
 "cells": [
  {
   "cell_type": "code",
   "execution_count": 1,
   "metadata": {},
   "outputs": [],
   "source": [
    "#Importing important header files\n",
    "\n",
    "import math                                #For mathematical functions such as squareroot\n",
    "import tensorflow as tf                    #For building the learning model\n",
    "import numpy as np                         #For array operations and manipulation\n",
    "import pylab as plt                        #For plotting relevant data\n",
    "from sklearn import model_selection        #For shuffling and spliting of input data\n",
    "import time as t                           #For finding run time of tensorflow session"
   ]
  },
  {
   "cell_type": "code",
   "execution_count": 18,
   "metadata": {},
   "outputs": [],
   "source": [
    "#Initialization of required variables and parameters\n",
    "\n",
    "NUM_FEATURES = 21\n",
    "NUM_CLASSES = 3\n",
    "NUM_HIDDEN = 10\n",
    "\n",
    "learning_rate = 0.01\n",
    "epochs = 1000\n",
    "batch_size = 32\n",
    "\n",
    "seed = 10\n",
    "np.random.seed(seed)"
   ]
  },
  {
   "cell_type": "code",
   "execution_count": 3,
   "metadata": {},
   "outputs": [],
   "source": [
    "#Function that traverses throught every row of the matrix, and return a one hot matrix\n",
    "\n",
    "def one_hot_matrix(input_data):\n",
    "    hot_mat = np.zeros((input_data.shape[0], NUM_CLASSES))\n",
    "    hot_mat[np.arange(input_data.shape[0]), input_data - 1] = 1  # one hot matrix\n",
    "    return hot_mat"
   ]
  },
  {
   "cell_type": "code",
   "execution_count": 5,
   "metadata": {},
   "outputs": [],
   "source": [
    "def init_bias(n=1):\n",
    "    return tf.Variable(np.zeros([n]), dtype=tf.float32, name='biases')"
   ]
  },
  {
   "cell_type": "code",
   "execution_count": 4,
   "metadata": {},
   "outputs": [],
   "source": [
    "def init_weights(n_in=1, n_out=1):\n",
    "    return tf.Variable(tf.truncated_normal([n_in, n_out], stddev=1.0 / math.sqrt(float(n_in))), dtype=tf.float32,\n",
    "                       name='weights')"
   ]
  },
  {
   "cell_type": "code",
   "execution_count": 6,
   "metadata": {},
   "outputs": [],
   "source": [
    "def scale(X, X_min, X_max):\n",
    "    return (X - X_min) / (X_max - X_min)"
   ]
  },
  {
   "cell_type": "code",
   "execution_count": 7,
   "metadata": {},
   "outputs": [],
   "source": [
    "train_input = np.genfromtxt('ctg_data_cleaned.csv', delimiter=',')\n",
    "\n",
    "# Split dataset into train / test\n",
    "trainX, testX, trainY, testY = model_selection.train_test_split(\n",
    "    train_input[1:, :21], train_input[1:, -1].astype(int), test_size=0.3, shuffle=True)"
   ]
  },
  {
   "cell_type": "code",
   "execution_count": 8,
   "metadata": {},
   "outputs": [
    {
     "name": "stdout",
     "output_type": "stream",
     "text": [
      "TRAINING INPUT\n",
      "[[0.59259259 0.         0.         ... 0.61320755 0.00371747 1.        ]\n",
      " [0.57407407 0.         0.03354298 ... 0.62264151 0.01115242 1.        ]\n",
      " [0.46296296 0.33333333 0.06289308 ... 0.59433962 0.14126394 0.        ]\n",
      " ...\n",
      " [0.40740741 0.61111111 0.0230608  ... 0.58490566 0.0669145  0.5       ]\n",
      " [0.66666667 0.77777778 0.12578616 ... 0.93396226 0.08178439 1.        ]\n",
      " [0.16666667 0.11111111 0.         ... 0.31132075 0.12267658 0.        ]]\n",
      "\n",
      "Number of rows : 1488\n"
     ]
    }
   ],
   "source": [
    "#Scaling of training and testing input data\n",
    "\n",
    "trainX = scale(trainX, np.min(trainX, axis=0), np.max(trainX, axis=0))\n",
    "testX = scale(testX, np.min(testX, axis=0), np.max(testX, axis=0))\n",
    "total_count = len(trainX)\n",
    "\n",
    "print(\"TRAINING INPUT\") \n",
    "print(trainX)\n",
    "print(\"\\nNumber of rows : %d\" %(total_count))"
   ]
  },
  {
   "cell_type": "code",
   "execution_count": 9,
   "metadata": {},
   "outputs": [
    {
     "name": "stdout",
     "output_type": "stream",
     "text": [
      "TRAINING OUTPUT\n",
      "[[1. 0. 0.]\n",
      " [0. 1. 0.]\n",
      " [1. 0. 0.]\n",
      " ...\n",
      " [1. 0. 0.]\n",
      " [1. 0. 0.]\n",
      " [1. 0. 0.]]\n",
      "\n",
      "Number of rows : 1488\n"
     ]
    }
   ],
   "source": [
    "#Initialization of training and testing output data\n",
    "\n",
    "trainY = one_hot_matrix(trainY)\n",
    "testY = one_hot_matrix(testY)\n",
    "\n",
    "print(\"TRAINING OUTPUT\") \n",
    "print(trainY)\n",
    "print(\"\\nNumber of rows : %d\" %(total_count))"
   ]
  },
  {
   "cell_type": "code",
   "execution_count": 10,
   "metadata": {},
   "outputs": [],
   "source": [
    "x = tf.placeholder(tf.float32, [None, NUM_FEATURES])\n",
    "d = tf.placeholder(tf.float32, [None, NUM_CLASSES])\n",
    "weight_decay_param = tf.placeholder(tf.float32)"
   ]
  },
  {
   "cell_type": "code",
   "execution_count": 11,
   "metadata": {},
   "outputs": [
    {
     "name": "stdout",
     "output_type": "stream",
     "text": [
      "WARNING:tensorflow:From C:\\Users\\steph\\Anaconda3\\lib\\site-packages\\tensorflow\\python\\framework\\op_def_library.py:263: colocate_with (from tensorflow.python.framework.ops) is deprecated and will be removed in a future version.\n",
      "Instructions for updating:\n",
      "Colocations handled automatically by placer.\n"
     ]
    }
   ],
   "source": [
    "# Define variables:\n",
    "V = init_weights(NUM_HIDDEN, NUM_CLASSES)\n",
    "c = init_bias(NUM_CLASSES)\n",
    "W = init_weights(NUM_FEATURES, NUM_HIDDEN)\n",
    "b = init_bias(NUM_HIDDEN)"
   ]
  },
  {
   "cell_type": "code",
   "execution_count": 12,
   "metadata": {},
   "outputs": [],
   "source": [
    "#Define model\n",
    "z = tf.matmul(x, W) + b\n",
    "h = tf.nn.relu(z)\n",
    "u = tf.matmul(h, V) + c\n",
    "p = tf.exp(u) / tf.reduce_sum(tf.exp(u), axis=1, keepdims=True)\n",
    "y = tf.argmax(p, axis=1)"
   ]
  },
  {
   "cell_type": "code",
   "execution_count": 13,
   "metadata": {},
   "outputs": [],
   "source": [
    "cross_entropy = tf.nn.softmax_cross_entropy_with_logits_v2(labels=d, logits=u)\n",
    "loss = tf.reduce_mean(cross_entropy) + weight_decay_param*(tf.reduce_mean(tf.math.square(V))+tf.reduce_mean(tf.math.square(W)))"
   ]
  },
  {
   "cell_type": "code",
   "execution_count": 14,
   "metadata": {},
   "outputs": [],
   "source": [
    "# Create the gradient descent optimizer with the given learning rate.\n",
    "optimizer = tf.train.GradientDescentOptimizer(learning_rate)\n",
    "train_op = optimizer.minimize(loss)"
   ]
  },
  {
   "cell_type": "code",
   "execution_count": 15,
   "metadata": {},
   "outputs": [],
   "source": [
    "correct_prediction = tf.cast(tf.equal(tf.argmax(u, 1), tf.argmax(d, 1)), tf.float32)\n",
    "accuracy = tf.reduce_mean(correct_prediction)"
   ]
  },
  {
   "cell_type": "code",
   "execution_count": 26,
   "metadata": {},
   "outputs": [
    {
     "name": "stdout",
     "output_type": "stream",
     "text": [
      "Weight Decay Parameter 0\n",
      "iteration     0: | train accuracy :   0.778451 \n",
      "iteration   100: | train accuracy :   0.899663 \n",
      "iteration   200: | train accuracy :   0.904377 \n",
      "iteration   300: | train accuracy :   0.908418 \n",
      "iteration   400: | train accuracy :   0.910438 \n",
      "iteration   500: | train accuracy :   0.913805 \n",
      "iteration   600: | train accuracy :   0.912458 \n",
      "iteration   700: | train accuracy :   0.917172 \n",
      "iteration   800: | train accuracy :   0.918519 \n",
      "iteration   900: | train accuracy :   0.919865 \n",
      "\n",
      "total Time 207: \n",
      "Weight Decay Parameter 0.001\n",
      "iteration     0: | train accuracy :   0.777778 \n",
      "iteration   100: | train accuracy :   0.900337 \n",
      "iteration   200: | train accuracy :   0.906397 \n",
      "iteration   300: | train accuracy :   0.908418 \n",
      "iteration   400: | train accuracy :   0.913805 \n",
      "iteration   500: | train accuracy :   0.915825 \n",
      "iteration   600: | train accuracy :   0.919192 \n",
      "iteration   700: | train accuracy :   0.922559 \n",
      "iteration   800: | train accuracy :   0.921212 \n",
      "iteration   900: | train accuracy :   0.923232 \n",
      "\n",
      "total Time 206: \n",
      "Weight Decay Parameter 1e-06\n",
      "iteration     0: | train accuracy :   0.777778 \n",
      "iteration   100: | train accuracy :   0.903704 \n",
      "iteration   200: | train accuracy :   0.904377 \n",
      "iteration   300: | train accuracy :   0.905724 \n",
      "iteration   400: | train accuracy :   0.911111 \n",
      "iteration   500: | train accuracy :   0.915825 \n",
      "iteration   600: | train accuracy :   0.921212 \n",
      "iteration   700: | train accuracy :   0.927273 \n",
      "iteration   800: | train accuracy :   0.931313 \n",
      "iteration   900: | train accuracy :   0.933333 \n",
      "\n",
      "total Time 209: \n",
      "Weight Decay Parameter 1e-09\n",
      "iteration     0: | train accuracy :   0.778451 \n",
      "iteration   100: | train accuracy :   0.902357 \n",
      "iteration   200: | train accuracy :   0.903704 \n",
      "iteration   300: | train accuracy :   0.907744 \n",
      "iteration   400: | train accuracy :   0.918519 \n",
      "iteration   500: | train accuracy :   0.923232 \n",
      "iteration   600: | train accuracy :   0.926599 \n",
      "iteration   700: | train accuracy :   0.933333 \n",
      "iteration   800: | train accuracy :   0.934007 \n",
      "iteration   900: | train accuracy :    0.93468 \n",
      "\n",
      "total Time 209: \n",
      "Weight Decay Parameter 1e-12\n",
      "iteration     0: | train accuracy :   0.779798 \n",
      "iteration   100: | train accuracy :   0.901684 \n",
      "iteration   200: | train accuracy :   0.903704 \n",
      "iteration   300: | train accuracy :   0.910438 \n",
      "iteration   400: | train accuracy :   0.907744 \n",
      "iteration   500: | train accuracy :   0.918519 \n",
      "iteration   600: | train accuracy :   0.927946 \n",
      "iteration   700: | train accuracy :    0.92862 \n",
      "iteration   800: | train accuracy :    0.92862 \n",
      "iteration   900: | train accuracy :    0.93468 \n",
      "\n",
      "total Time 206: \n"
     ]
    }
   ],
   "source": [
    "#Run tensorflow session\n",
    "\n",
    "weight_acc = []\n",
    "weight_time = []\n",
    "\n",
    "for n in range(0,-13,-3):\n",
    "\n",
    "    weight_decay = 0.0;\n",
    "    if(n!=0):\n",
    "        weight_decay = pow(10,n)\n",
    "    print(\"Weight Decay Parameter %g\" %weight_decay)\n",
    "    \n",
    "    with tf.Session() as sess:\n",
    "\n",
    "        sess.run(tf.global_variables_initializer())\n",
    "\n",
    "        train_acc = []\n",
    "        start_time = t.time()\n",
    "\n",
    "        for i in range(epochs):\n",
    "\n",
    "            idx = np.arange(total_count)\n",
    "            np.random.shuffle(idx)\n",
    "            trainX, trainY = trainX[idx], trainY[idx]\n",
    "\n",
    "            fold_acc = []\n",
    "\n",
    "            for k in range(5):\n",
    "                start_index = k * (total_count // 5)\n",
    "                stop_index = (k + 1) * (total_count // 5)\n",
    "\n",
    "                train_x = np.concatenate((trainX[0:start_index],trainX[stop_index:total_count]))\n",
    "                train_y = np.concatenate((trainY[0:start_index],trainY[stop_index:total_count]))\n",
    "                test_x = trainX[start_index:stop_index]\n",
    "                test_y = trainY[start_index:stop_index] \n",
    "\n",
    "                fold_count = len(train_x)\n",
    "\n",
    "                for j in range(batch_size, fold_count, batch_size):\n",
    "                    batch_x = train_x[j - batch_size:j]\n",
    "                    batch_y = train_y[j - batch_size:j]\n",
    "\n",
    "                    train_op.run(feed_dict={x: batch_x, d: batch_y, weight_decay_param: weight_decay})\n",
    "\n",
    "                fold_acc.append(accuracy.eval(feed_dict={x: test_x, d: test_y, weight_decay_param: weight_decay}))\n",
    "\n",
    "            train_acc.append(sum(fold_acc) / len(fold_acc))\n",
    "            if i % 100 == 0:\n",
    "                print('iteration %5d: | train accuracy : %10g ' % (i, train_acc[i]))\n",
    "\n",
    "        stop_time = t.time()\n",
    "        weight_acc.append(train_acc)\n",
    "        weight_time.append(stop_time - start_time)\n",
    "        \n",
    "        print('\\ntotal Time %d: ' % (stop_time - start_time))"
   ]
  },
  {
   "cell_type": "code",
   "execution_count": 28,
   "metadata": {},
   "outputs": [
    {
     "data": {
      "image/png": "[encoded data removed]",
      "text/plain": [
       "<Figure size 432x288 with 1 Axes>"
      ]
     },
     "metadata": {
      "needs_background": "light"
     },
     "output_type": "display_data"
    }
   ],
   "source": [
    "# plot learning curves\n",
    "\n",
    "plt.figure(1)\n",
    "for i in range(5):\n",
    "    plt.plot(range(epochs), weight_acc[i])\n",
    "plt.xlabel(str(epochs) + ' iterations')\n",
    "plt.ylabel('train accuracy')\n",
    "plt.show()"
   ]
  }
 ],
 "metadata": {
  "kernelspec": {
   "display_name": "Python 3",
   "language": "python",
   "name": "python3"
  },
  "language_info": {
   "codemirror_mode": {
    "name": "ipython",
    "version": 3
   },
   "file_extension": ".py",
   "mimetype": "text/x-python",
   "name": "python",
   "nbconvert_exporter": "python",
   "pygments_lexer": "ipython3",
   "version": "3.7.1"
  }
 },
 "nbformat": 4,
 "nbformat_minor": 2
}
